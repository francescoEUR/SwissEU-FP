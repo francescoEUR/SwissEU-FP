{
 "cells": [
  {
   "cell_type": "code",
   "execution_count": 2,
   "metadata": {},
   "outputs": [],
   "source": [
    "# Import usual Python and data handling stuff\n",
    "import numpy as np\n",
    "import pandas as pd"
   ]
  },
  {
   "cell_type": "code",
   "execution_count": 3,
   "metadata": {},
   "outputs": [],
   "source": [
    "# Not yet used - No graph :-(\n",
    "#import matplotlib.pyplot as plt\n",
    "#%matplotlib inline"
   ]
  },
  {
   "cell_type": "markdown",
   "metadata": {},
   "source": [
    "# Analysis of the participations in EU Framework Programmes\n",
    "\n",
    "In the analysis, we cover the participation in the EU Framework Programmes for Research and Innovation between 2007 and 2017. This period is covered by FP7 (2007-2013) and Horizon 2020 (since 2014)."
   ]
  },
  {
   "cell_type": "markdown",
   "metadata": {},
   "source": [
    "## FP7 datasets: 2007-2013"
   ]
  },
  {
   "cell_type": "markdown",
   "metadata": {},
   "source": [
    "### Set up general coding information from Cordis\n",
    "\n",
    "Cordis has several dictionaries for coded information. The following datasets are created on this basis and will be used to \"decode\" the information provided in the projects and organisations datasets for FP7."
   ]
  },
  {
   "cell_type": "code",
   "execution_count": 4,
   "metadata": {},
   "outputs": [],
   "source": [
    "# Symbols and names of countries in several langues\n",
    "country_file = \"FP7/cordisref-countries.xls\"\n",
    "countries = pd.read_excel(\n",
    "    country_file,\n",
    "    sheet_name=\"cordisref-countries\",\n",
    "    header=0,\n",
    ")"
   ]
  },
  {
   "cell_type": "code",
   "execution_count": 5,
   "metadata": {},
   "outputs": [],
   "source": [
    "# Symbols and names of FP7 sub-programmes in several langues\n",
    "fp7_programmes_file = \"FP7/cordisref-FP7programmes.xls\"\n",
    "fp7_programmes = pd.read_excel(\n",
    "    fp7_programmes_file,\n",
    "    sheet_name=\"Hoja1\",\n",
    "    header=0,\n",
    ")"
   ]
  },
  {
   "cell_type": "code",
   "execution_count": 6,
   "metadata": {},
   "outputs": [],
   "source": [
    "# Full names of funding schemes\n",
    "fp7_schemes_file = \"FP7/cordisref-projectFundingSchemeCategory.xls\"\n",
    "fp7_schemes = pd.read_excel(\n",
    "    fp7_schemes_file,\n",
    "    sheet_name=\"cordisref-projectFundingSchemeC\",\n",
    "    header=0,\n",
    ")"
   ]
  },
  {
   "cell_type": "markdown",
   "metadata": {},
   "source": [
    "### FP7 projects and organisations\n",
    "The data for projects and participations in FP7 are available on the Open Data Portal of the European Union:\n",
    "\n",
    "https://data.europa.eu/euodp/en/data/dataset/cordisfp7projects\n",
    "\n",
    "Two datasets will be created:\n",
    "* `fp7_proj`: with the descriptors of the FP7 funded projects\n",
    "* `fp7_part`: with the descriptions of the participating organisations\n",
    "\n",
    "These two datasets will be merged into one sigle `fp7` dataset where the project informations will be repeated to each participations."
   ]
  },
  {
   "cell_type": "code",
   "execution_count": 7,
   "metadata": {},
   "outputs": [
    {
     "name": "stdout",
     "output_type": "stream",
     "text": [
      "CPU times: user 21.9 s, sys: 104 ms, total: 22 s\n",
      "Wall time: 22 s\n"
     ]
    }
   ],
   "source": [
    "%%time\n",
    "\n",
    "fp7_proj_file = \"FP7/cordis-fp7projects.xlsx\"\n",
    "fp7_part_file = \"FP7/cordis-fp7organizations.xlsx\"\n",
    "\n",
    "fp7_proj = pd.read_excel(\n",
    "    fp7_proj_file, sheet_name=\"cordis-fp7projects\",\n",
    "    header=0,\n",
    ")\n",
    "fp7_part = pd.read_excel(\n",
    "    fp7_part_file,\n",
    "    sheet_name=\"cordis-h2020organizations\", # Which is a mistake in the Cordis dataset!\n",
    "    header=0,\n",
    ")"
   ]
  },
  {
   "cell_type": "code",
   "execution_count": 8,
   "metadata": {},
   "outputs": [],
   "source": [
    "# We  rename some columns which are in both datasets:\n",
    "# In projects:\n",
    "fp7_proj = fp7_proj.rename(\n",
    "    index=str,\n",
    "    columns={\n",
    "        \"id\": \"projectID\",\n",
    "        \"rcn\": \"projectRCN\",\n",
    "        \"acronym\": \"projectAcronym\"\n",
    "    }\n",
    ")\n",
    "# In participations:\n",
    "fp7_part = fp7_part.rename(\n",
    "    index=str,\n",
    "    columns={\n",
    "        \"id\": \"organizationID\",\n",
    "        \"projectRcn\": \"projectRCN\",\n",
    "        \"name\": \"organizationName\",\n",
    "    }\n",
    ")"
   ]
  },
  {
   "cell_type": "markdown",
   "metadata": {},
   "source": [
    "Some project acronyms are not consistent in their writing (lower case), so we force upper case writing:"
   ]
  },
  {
   "cell_type": "code",
   "execution_count": 9,
   "metadata": {},
   "outputs": [],
   "source": [
    "fp7_proj[\"projectAcronym\"] = fp7_proj[\"projectAcronym\"].str.upper()\n",
    "fp7_part[\"projectAcronym\"] = fp7_part[\"projectAcronym\"].str.upper()"
   ]
  },
  {
   "cell_type": "markdown",
   "metadata": {},
   "source": [
    "So, let's merge these two datasets and create the `fp7` dataset."
   ]
  },
  {
   "cell_type": "code",
   "execution_count": 10,
   "metadata": {},
   "outputs": [],
   "source": [
    "fp7 = fp7_proj.merge(\n",
    "    fp7_part,\n",
    "    on=[\"projectRCN\",\"projectID\",\"projectAcronym\"]\n",
    ")"
   ]
  },
  {
   "cell_type": "code",
   "execution_count": 11,
   "metadata": {},
   "outputs": [
    {
     "data": {
      "text/plain": [
       "((25778, 21), (146021, 23), (146021, 41))"
      ]
     },
     "execution_count": 11,
     "metadata": {},
     "output_type": "execute_result"
    }
   ],
   "source": [
    "fp7_proj.shape, fp7_part.shape, fp7.shape"
   ]
  },
  {
   "cell_type": "markdown",
   "metadata": {},
   "source": [
    "## Horizon 2020 datasets: 2014-2020"
   ]
  },
  {
   "cell_type": "markdown",
   "metadata": {},
   "source": [
    "### Set up general coding information from Cordis\n",
    "\n",
    "Cordis has several dictionaries for coded information. The following datasets are created on this basis and will be used to \"decode\" the information provided in the projects and organisations datasets for FP7 and Horizon 2020."
   ]
  },
  {
   "cell_type": "code",
   "execution_count": 12,
   "metadata": {},
   "outputs": [],
   "source": [
    "# Symbols and names of Horizon 2020 sub-programmes in several languages\n",
    "h2020_programmes_file = \"Horizon 2020/cordisref-H2020programmes.xls\"\n",
    "h2020_programmes = pd.read_excel(\n",
    "    h2020_programmes_file,\n",
    "    sheet_name=\"Hoja1\",\n",
    "    header=0,\n",
    ")"
   ]
  },
  {
   "cell_type": "code",
   "execution_count": 13,
   "metadata": {},
   "outputs": [],
   "source": [
    "# Symbols and names of Horizon 2020 topics in several languages\n",
    "h2020_topics_file = \"Horizon 2020/cordisref-H2020topics.xlsx\"\n",
    "h2020_topics = pd.read_excel(\n",
    "    h2020_topics_file,\n",
    "    sheet_name=\"cordisref-H2020topics\",\n",
    "    header=0,\n",
    ")"
   ]
  },
  {
   "cell_type": "code",
   "execution_count": 14,
   "metadata": {},
   "outputs": [],
   "source": [
    "# Symbols and names of Horizon 2020 research topics\n",
    "h2020_sic_file = \"Horizon 2020/cordisref-sicCode.xls\"\n",
    "h2020_sic = pd.read_excel(\n",
    "    h2020_sic_file,\n",
    "    sheet_name=\"cordisref-sicCode\",\n",
    "    header=0,\n",
    ")"
   ]
  },
  {
   "cell_type": "markdown",
   "metadata": {},
   "source": [
    "### Horizon 2020 projects and organisations\n",
    "The data for projects and participations in Horizon 2020 are available on the Open Data Portal of the European Union:\n",
    "\n",
    "https://data.europa.eu/euodp/en/data/dataset/cordisH2020projects\n",
    "\n",
    "The cut-off date is: 2017-10-12\n",
    "\n",
    "Two datasets will be created:\n",
    "* `h2020_proj`: with the descriptors of the Horizon 2020 funded projects\n",
    "* `h2020_part`: with the descriptions of the participating organisations\n",
    "\n",
    "These two datasets will be merged into one sigle `h2020` dataset where the project informations will be repeated to each participations.\n"
   ]
  },
  {
   "cell_type": "code",
   "execution_count": 15,
   "metadata": {},
   "outputs": [
    {
     "name": "stdout",
     "output_type": "stream",
     "text": [
      "CPU times: user 6.42 s, sys: 28 ms, total: 6.45 s\n",
      "Wall time: 6.45 s\n"
     ]
    }
   ],
   "source": [
    "%%time\n",
    "\n",
    "h2020_proj_file = \"Horizon 2020/cordis-h2020projects.csv\"\n",
    "h2020_part_file = \"Horizon 2020/cordis-h2020organizations.xlsx\"\n",
    "\n",
    "h2020_proj = pd.read_csv(\n",
    "    h2020_proj_file,\n",
    "    sep=\";\",\n",
    "    header=0,\n",
    ")\n",
    "h2020_part = pd.read_excel(\n",
    "    h2020_part_file,\n",
    "    sheet_name=\"organisation\",\n",
    "    header=0,\n",
    ")"
   ]
  },
  {
   "cell_type": "code",
   "execution_count": 16,
   "metadata": {},
   "outputs": [],
   "source": [
    "# We  rename some columns which are in both datasets:\n",
    "# In projects:\n",
    "h2020_proj = h2020_proj.rename(\n",
    "    index=str,\n",
    "    columns={\n",
    "        \"id\": \"projectID\",\n",
    "        \"rcn\": \"projectRCN\",\n",
    "        \"acronym\": \"projectAcronym\"\n",
    "    }\n",
    ")\n",
    "# In participations:\n",
    "h2020_part = h2020_part.rename(\n",
    "    index=str,\n",
    "    columns={\n",
    "        \"id\": \"organizationID\",\n",
    "        \"projectRcn\": \"projectRCN\",\n",
    "        \"name\": \"organizationName\",\n",
    "    }\n",
    ")"
   ]
  },
  {
   "cell_type": "markdown",
   "metadata": {},
   "source": [
    "Two projects with projectRCN have non-consistent project acronyms, so let's force them to the same writing:\n",
    "* projectRCN = 208306\n",
    "* projectRCN = 194607"
   ]
  },
  {
   "cell_type": "code",
   "execution_count": 17,
   "metadata": {},
   "outputs": [],
   "source": [
    "h2020_part.loc[h2020_part.projectRCN.eq(208306)] =\\\n",
    "    h2020_proj.loc[h2020_proj.projectRCN.eq(208306)].projectAcronym[0]\n",
    "h2020_part.loc[h2020_part.projectRCN.eq(194607)] =\\\n",
    "    h2020_proj.loc[h2020_proj.projectRCN.eq(194607)].projectAcronym[0]"
   ]
  },
  {
   "cell_type": "markdown",
   "metadata": {},
   "source": [
    "So, let's merge these two datasets and create the `h2020` dataset."
   ]
  },
  {
   "cell_type": "code",
   "execution_count": 18,
   "metadata": {},
   "outputs": [],
   "source": [
    "h2020 = h2020_proj.merge(\n",
    "    h2020_part,\n",
    "    on=[\"projectRCN\", \"projectID\", \"projectAcronym\"]\n",
    ")"
   ]
  },
  {
   "cell_type": "code",
   "execution_count": 19,
   "metadata": {},
   "outputs": [
    {
     "data": {
      "text/plain": [
       "((14837, 21), (71312, 23), (62495, 41))"
      ]
     },
     "execution_count": 19,
     "metadata": {},
     "output_type": "execute_result"
    }
   ],
   "source": [
    "h2020_proj.shape, h2020_part.shape, h2020.shape"
   ]
  },
  {
   "cell_type": "markdown",
   "metadata": {},
   "source": [
    "We can see from the fusion that not every project record number has found its corresponding record number in the other dataset. We find indeed 8806 project record numbers (projectRCN) in the `h2020_part` dataset that are _not_ matched in the `h2020_proj` dataset, which is exactly the difference between the size of `h2020_part` and `h2020`."
   ]
  },
  {
   "cell_type": "code",
   "execution_count": 20,
   "metadata": {},
   "outputs": [],
   "source": [
    "rcn_in_proj = h2020_proj[\"projectRCN\"].unique()\n",
    "missing_rcn = h2020_part.loc[~h2020_part[\"projectRCN\"].isin(rcn_in_proj),\"projectRCN\"]"
   ]
  },
  {
   "cell_type": "code",
   "execution_count": 21,
   "metadata": {},
   "outputs": [
    {
     "data": {
      "text/plain": [
       "True"
      ]
     },
     "execution_count": 21,
     "metadata": {},
     "output_type": "execute_result"
    }
   ],
   "source": [
    "len(missing_rcn) + h2020.shape[0] == h2020_part.shape[0]"
   ]
  },
  {
   "cell_type": "markdown",
   "metadata": {},
   "source": [
    "## Analysis\n",
    "\n",
    "This parts is the generala analysis of the FP7 participations dataset extracted from the Cordis project files (`fp7` and `h2020` datasets)."
   ]
  },
  {
   "cell_type": "markdown",
   "metadata": {},
   "source": [
    "We list below all the column headers of the datasets."
   ]
  },
  {
   "cell_type": "code",
   "execution_count": 22,
   "metadata": {},
   "outputs": [
    {
     "data": {
      "text/plain": [
       "Index([], dtype='object')"
      ]
     },
     "execution_count": 22,
     "metadata": {},
     "output_type": "execute_result"
    }
   ],
   "source": [
    "h2020.columns.difference(fp7.columns)"
   ]
  },
  {
   "cell_type": "markdown",
   "metadata": {},
   "source": [
    "So we see that both datasets, `fp7` and `h2020`have the same set of columns."
   ]
  },
  {
   "cell_type": "code",
   "execution_count": null,
   "metadata": {},
   "outputs": [],
   "source": []
  }
 ],
 "metadata": {
  "kernelspec": {
   "display_name": "Python 3",
   "language": "python",
   "name": "python3"
  },
  "language_info": {
   "codemirror_mode": {
    "name": "ipython",
    "version": 3
   },
   "file_extension": ".py",
   "mimetype": "text/x-python",
   "name": "python",
   "nbconvert_exporter": "python",
   "pygments_lexer": "ipython3",
   "version": "3.6.4"
  }
 },
 "nbformat": 4,
 "nbformat_minor": 2
}
