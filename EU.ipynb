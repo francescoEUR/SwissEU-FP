{
 "cells": [
  {
   "cell_type": "code",
   "execution_count": 1,
   "metadata": {},
   "outputs": [],
   "source": [
    "# Import usual Python and data handling stuff\n",
    "import numpy as np\n",
    "import pandas as pd"
   ]
  },
  {
   "cell_type": "code",
   "execution_count": 2,
   "metadata": {},
   "outputs": [],
   "source": [
    "# Not yet used - No graph :-(\n",
    "#import matplotlib.pyplot as plt\n",
    "#%matplotlib inline"
   ]
  },
  {
   "cell_type": "markdown",
   "metadata": {},
   "source": [
    "# Analysis of the participations in EU Framework Programmes\n",
    "\n",
    "In the analysis, we cover the participation in the EU Framework Programmes for Research and Innovation between 2007 and 2017. This period is covered by FP7 (2007-2013) and Horizon 2020 (since 2014)."
   ]
  },
  {
   "cell_type": "markdown",
   "metadata": {},
   "source": [
    "## FP7 datasets: 2007-2013"
   ]
  },
  {
   "cell_type": "markdown",
   "metadata": {},
   "source": [
    "### Set up general coding information from Cordis\n",
    "\n",
    "Cordis has several dictionaries for coded information. The following datasets are created on this basis and will be used to \"decode\" the information provided in the projects and organisations datasets for FP7."
   ]
  },
  {
   "cell_type": "code",
   "execution_count": 3,
   "metadata": {},
   "outputs": [],
   "source": [
    "# Symbols and names of countries in several langues\n",
    "country_file = \"FP7/cordisref-countries.xls\"\n",
    "countries = pd.read_excel(\n",
    "    country_file,\n",
    "    sheet_name=\"cordisref-countries\",\n",
    "    header=0,\n",
    ")"
   ]
  },
  {
   "cell_type": "code",
   "execution_count": 4,
   "metadata": {},
   "outputs": [],
   "source": [
    "# Symbols and names of FP7 sub-programmes in several langues\n",
    "fp7_programmes_file = \"FP7/cordisref-FP7programmes.xls\"\n",
    "fp7_programmes = pd.read_excel(\n",
    "    fp7_programmes_file,\n",
    "    sheet_name=\"Hoja1\",\n",
    "    header=0,\n",
    ")"
   ]
  },
  {
   "cell_type": "code",
   "execution_count": 5,
   "metadata": {},
   "outputs": [],
   "source": [
    "# Full names of funding schemes\n",
    "fp7_schemes_file = \"FP7/cordisref-projectFundingSchemeCategory.xls\"\n",
    "fp7_schemes = pd.read_excel(\n",
    "    fp7_schemes_file,\n",
    "    sheet_name=\"cordisref-projectFundingSchemeC\",\n",
    "    header=0,\n",
    ")"
   ]
  },
  {
   "cell_type": "markdown",
   "metadata": {},
   "source": [
    "### FP7 projects and organisations\n",
    "The data for projects and participations in FP7 are available on the Open Data Portal of the European Union:\n",
    "\n",
    "https://data.europa.eu/euodp/en/data/dataset/cordisfp7projects\n",
    "\n",
    "Two datasets will be created:\n",
    "* `fp7_proj`: with the descriptors of the FP7 funded projects\n",
    "* `fp7_part`: with the descriptions of the participating organisations\n",
    "\n",
    "These two datasets will be merged into one sigle `fp7` dataset where the project informations will be repeated to each participations."
   ]
  },
  {
   "cell_type": "code",
   "execution_count": 6,
   "metadata": {},
   "outputs": [
    {
     "name": "stdout",
     "output_type": "stream",
     "text": [
      "CPU times: user 23.2 s, sys: 139 ms, total: 23.3 s\n",
      "Wall time: 23.3 s\n"
     ]
    }
   ],
   "source": [
    "%%time\n",
    "\n",
    "fp7_proj_file = \"FP7/cordis-fp7projects.xlsx\"\n",
    "fp7_part_file = \"FP7/cordis-fp7organizations.xlsx\"\n",
    "\n",
    "fp7_proj = pd.read_excel(\n",
    "    fp7_proj_file, sheet_name=\"cordis-fp7projects\",\n",
    "    header=0,\n",
    ")\n",
    "fp7_part = pd.read_excel(\n",
    "    fp7_part_file,\n",
    "    sheet_name=\"cordis-h2020organizations\", # Which is a mistake in the Cordis dataset!\n",
    "    header=0,\n",
    ")"
   ]
  },
  {
   "cell_type": "code",
   "execution_count": 7,
   "metadata": {},
   "outputs": [],
   "source": [
    "# We  rename some columns which are in both datasets:\n",
    "# In projects:\n",
    "fp7_proj = fp7_proj.rename(\n",
    "    index=str,\n",
    "    columns={\n",
    "        \"id\": \"projectID\",\n",
    "        \"rcn\": \"projectRCN\",\n",
    "        \"acronym\": \"projectAcronym\"\n",
    "    }\n",
    ")\n",
    "# In participations:\n",
    "fp7_part = fp7_part.rename(\n",
    "    index=str,\n",
    "    columns={\n",
    "        \"id\": \"organizationID\",\n",
    "        \"projectRcn\": \"projectRCN\",\n",
    "        \"name\": \"organizationName\",\n",
    "    }\n",
    ")"
   ]
  },
  {
   "cell_type": "markdown",
   "metadata": {},
   "source": [
    "Some project acronyms are not consistent in their writing (lower case), so we force upper case writing:"
   ]
  },
  {
   "cell_type": "code",
   "execution_count": 8,
   "metadata": {},
   "outputs": [],
   "source": [
    "fp7_proj[\"projectAcronym\"] = fp7_proj[\"projectAcronym\"].str.upper()\n",
    "fp7_part[\"projectAcronym\"] = fp7_part[\"projectAcronym\"].str.upper()"
   ]
  },
  {
   "cell_type": "markdown",
   "metadata": {},
   "source": [
    "So, let's merge these two datasets and create the `fp7` dataset."
   ]
  },
  {
   "cell_type": "code",
   "execution_count": 9,
   "metadata": {},
   "outputs": [],
   "source": [
    "fp7 = fp7_proj.merge(\n",
    "    fp7_part,\n",
    "    on=[\"projectRCN\",\"projectID\",\"projectAcronym\"]\n",
    ")"
   ]
  },
  {
   "cell_type": "code",
   "execution_count": 10,
   "metadata": {},
   "outputs": [
    {
     "data": {
      "text/plain": [
       "((25778, 21), (146021, 23), (146021, 41))"
      ]
     },
     "execution_count": 10,
     "metadata": {},
     "output_type": "execute_result"
    }
   ],
   "source": [
    "fp7_proj.shape, fp7_part.shape, fp7.shape"
   ]
  },
  {
   "cell_type": "markdown",
   "metadata": {},
   "source": [
    "## Horizon 2020 datasets: 2014-2020"
   ]
  },
  {
   "cell_type": "markdown",
   "metadata": {},
   "source": [
    "### Set up general coding information from Cordis\n",
    "\n",
    "Cordis has several dictionaries for coded information. The following datasets are created on this basis and will be used to \"decode\" the information provided in the projects and organisations datasets for FP7 and Horizon 2020."
   ]
  },
  {
   "cell_type": "code",
   "execution_count": 11,
   "metadata": {},
   "outputs": [],
   "source": [
    "# Symbols and names of Horizon 2020 sub-programmes in several languages\n",
    "h2020_programmes_file = \"Horizon 2020/cordisref-H2020programmes.xls\"\n",
    "h2020_programmes = pd.read_excel(\n",
    "    h2020_programmes_file,\n",
    "    sheet_name=\"Hoja1\",\n",
    "    header=0,\n",
    ")"
   ]
  },
  {
   "cell_type": "code",
   "execution_count": 12,
   "metadata": {},
   "outputs": [],
   "source": [
    "# Symbols and names of Horizon 2020 topics in several languages\n",
    "h2020_topics_file = \"Horizon 2020/cordisref-H2020topics.xlsx\"\n",
    "h2020_topics = pd.read_excel(\n",
    "    h2020_topics_file,\n",
    "    sheet_name=\"cordisref-H2020topics\",\n",
    "    header=0,\n",
    ")"
   ]
  },
  {
   "cell_type": "code",
   "execution_count": 13,
   "metadata": {},
   "outputs": [],
   "source": [
    "# Symbols and names of Horizon 2020 research topics\n",
    "h2020_sic_file = \"Horizon 2020/cordisref-sicCode.xls\"\n",
    "h2020_sic = pd.read_excel(\n",
    "    h2020_sic_file,\n",
    "    sheet_name=\"cordisref-sicCode\",\n",
    "    header=0,\n",
    ")"
   ]
  },
  {
   "cell_type": "markdown",
   "metadata": {},
   "source": [
    "### Horizon 2020 projects and organisations\n",
    "The data for projects and participations in Horizon 2020 are available on the Open Data Portal of the European Union:\n",
    "\n",
    "https://data.europa.eu/euodp/en/data/dataset/cordisH2020projects\n",
    "\n",
    "The cut-off date is: 2017-10-12\n",
    "\n",
    "Two datasets will be created:\n",
    "* `h2020_proj`: with the descriptors of the Horizon 2020 funded projects\n",
    "* `h2020_part`: with the descriptions of the participating organisations\n",
    "\n",
    "These two datasets will be merged into one sigle `h2020` dataset where the project informations will be repeated to each participations.\n"
   ]
  },
  {
   "cell_type": "code",
   "execution_count": 14,
   "metadata": {},
   "outputs": [
    {
     "name": "stdout",
     "output_type": "stream",
     "text": [
      "CPU times: user 6.81 s, sys: 16.1 ms, total: 6.83 s\n",
      "Wall time: 6.83 s\n"
     ]
    }
   ],
   "source": [
    "%%time\n",
    "\n",
    "h2020_proj_file = \"Horizon 2020/cordis-h2020projects.csv\"\n",
    "h2020_part_file = \"Horizon 2020/cordis-h2020organizations.xlsx\"\n",
    "\n",
    "h2020_proj = pd.read_csv(\n",
    "    h2020_proj_file,\n",
    "    sep=\";\",\n",
    "    header=0,\n",
    ")\n",
    "h2020_part = pd.read_excel(\n",
    "    h2020_part_file,\n",
    "    sheet_name=\"organisation\",\n",
    "    header=0,\n",
    ")"
   ]
  },
  {
   "cell_type": "code",
   "execution_count": 15,
   "metadata": {},
   "outputs": [],
   "source": [
    "# We  rename some columns which are in both datasets:\n",
    "# In projects:\n",
    "h2020_proj = h2020_proj.rename(\n",
    "    index=str,\n",
    "    columns={\n",
    "        \"id\": \"projectID\",\n",
    "        \"rcn\": \"projectRCN\",\n",
    "        \"acronym\": \"projectAcronym\"\n",
    "    }\n",
    ")\n",
    "# In participations:\n",
    "h2020_part = h2020_part.rename(\n",
    "    index=str,\n",
    "    columns={\n",
    "        \"id\": \"organizationID\",\n",
    "        \"projectRcn\": \"projectRCN\",\n",
    "        \"name\": \"organizationName\",\n",
    "    }\n",
    ")"
   ]
  },
  {
   "cell_type": "markdown",
   "metadata": {},
   "source": [
    "Two projects with projectRCN have non-consistent project acronyms, so let's force them to the same writing:\n",
    "* projectRCN = 208306\n",
    "* projectRCN = 194607"
   ]
  },
  {
   "cell_type": "code",
   "execution_count": 16,
   "metadata": {},
   "outputs": [],
   "source": [
    "h2020_part.loc[h2020_part.projectRCN.eq(208306)] =\\\n",
    "    h2020_proj.loc[h2020_proj.projectRCN.eq(208306)].projectAcronym[0]\n",
    "h2020_part.loc[h2020_part.projectRCN.eq(194607)] =\\\n",
    "    h2020_proj.loc[h2020_proj.projectRCN.eq(194607)].projectAcronym[0]"
   ]
  },
  {
   "cell_type": "markdown",
   "metadata": {},
   "source": [
    "So, let's merge these two datasets and create the `h2020` dataset."
   ]
  },
  {
   "cell_type": "code",
   "execution_count": 17,
   "metadata": {},
   "outputs": [],
   "source": [
    "h2020 = h2020_proj.merge(\n",
    "    h2020_part,\n",
    "    on=[\"projectRCN\", \"projectID\", \"projectAcronym\"]\n",
    ")"
   ]
  },
  {
   "cell_type": "code",
   "execution_count": 18,
   "metadata": {},
   "outputs": [
    {
     "data": {
      "text/plain": [
       "((14837, 21), (71312, 23), (62495, 41))"
      ]
     },
     "execution_count": 18,
     "metadata": {},
     "output_type": "execute_result"
    }
   ],
   "source": [
    "h2020_proj.shape, h2020_part.shape, h2020.shape"
   ]
  },
  {
   "cell_type": "markdown",
   "metadata": {},
   "source": [
    "We can see from the fusion that not every project record number has found its corresponding record number in the other dataset. We find indeed 8806 project record numbers (projectRCN) in the `h2020_part` dataset that are _not_ matched in the `h2020_proj` dataset, which is exactly the difference between the size of `h2020_part` and `h2020`."
   ]
  },
  {
   "cell_type": "code",
   "execution_count": 19,
   "metadata": {},
   "outputs": [],
   "source": [
    "rcn_in_proj = h2020_proj[\"projectRCN\"].unique()\n",
    "missing_rcn = h2020_part.loc[~h2020_part[\"projectRCN\"].isin(rcn_in_proj),\"projectRCN\"]"
   ]
  },
  {
   "cell_type": "code",
   "execution_count": 20,
   "metadata": {},
   "outputs": [
    {
     "data": {
      "text/plain": [
       "True"
      ]
     },
     "execution_count": 20,
     "metadata": {},
     "output_type": "execute_result"
    }
   ],
   "source": [
    "len(missing_rcn) + h2020.shape[0] == h2020_part.shape[0]"
   ]
  },
  {
   "cell_type": "markdown",
   "metadata": {},
   "source": [
    "## Analysis\n",
    "\n",
    "This parts is the generala analysis of the FP7 participations dataset extracted from the Cordis project files (`fp7` and `h2020` datasets)."
   ]
  },
  {
   "cell_type": "markdown",
   "metadata": {},
   "source": [
    "We list below all the column headers of the datasets."
   ]
  },
  {
   "cell_type": "code",
   "execution_count": 21,
   "metadata": {},
   "outputs": [
    {
     "data": {
      "text/plain": [
       "Index([], dtype='object')"
      ]
     },
     "execution_count": 21,
     "metadata": {},
     "output_type": "execute_result"
    }
   ],
   "source": [
    "h2020.columns.difference(fp7.columns)"
   ]
  },
  {
   "cell_type": "markdown",
   "metadata": {},
   "source": [
    "So we see that both datasets, `fp7` and `h2020`have the same set of columns."
   ]
  },
  {
   "cell_type": "markdown",
   "metadata": {},
   "source": [
    "### Swiss participations in FP7\n",
    "\n",
    "#### Reference\n",
    "We compare our analysis to the official figures provided by the Swiss Confederation (State Secretariat for Education, Research and Innovation):\n",
    "\n",
    "Source: [Swiss Participation in European Research Framework Programmes](https://www.sbfi.admin.ch/dam/sbfi/en/dokumente/2016/01/beteiligung_der_schweizandeneuropaeischenforschungsrahmenprogram.pdf.download.pdf/swiss_participationineuropeanresearchframeworkprogrammes.pdf)"
   ]
  },
  {
   "cell_type": "code",
   "execution_count": 22,
   "metadata": {},
   "outputs": [
    {
     "name": "stdout",
     "output_type": "stream",
     "text": [
      "fp7 dataset column headers:\n",
      "- projectRCN\n",
      "- projectID\n",
      "- projectAcronym\n",
      "- status\n",
      "- programme\n",
      "- topics\n",
      "- frameworkProgramme\n",
      "- title\n",
      "- startDate\n",
      "- endDate\n",
      "- projectUrl\n",
      "- objective\n",
      "- totalCost\n",
      "- ecMaxContribution\n",
      "- call\n",
      "- fundingScheme\n",
      "- coordinator\n",
      "- coordinatorCountry\n",
      "- participants\n",
      "- participantCountries\n",
      "- subjects\n",
      "- role\n",
      "- organizationID\n",
      "- organizationName\n",
      "- shortName\n",
      "- activityType\n",
      "- endOfParticipation\n",
      "- ecContribution\n",
      "- country\n",
      "- street\n",
      "- city\n",
      "- postCode\n",
      "- organizationUrl\n",
      "- contactType\n",
      "- contactTitle\n",
      "- contactFirstNames\n",
      "- contactLastNames\n",
      "- contactFunction\n",
      "- contactTelephoneNumber\n",
      "- contactFaxNumber\n",
      "- contactEmail\n"
     ]
    }
   ],
   "source": [
    "print (\n",
    "    \"fp7 dataset column headers:\\n- \" + \\\n",
    "    \"\\n- \".join(fp7.columns)\n",
    ")"
   ]
  },
  {
   "cell_type": "markdown",
   "metadata": {},
   "source": [
    "#### International organisations in Switzerland\n",
    "\n",
    "Extract the data for Switzerland, but without the following international organisations that are counted for Switzerland by the European Commission. We consider in this statistics:\n",
    "\n",
    "- Organisation météorologique mondiale: WMO\n",
    "- United Nations International Strategy for Disaster Reduction: UNISDR\n",
    "- International Organization for Migration: IOM\n",
    "- European Organization for Nuclear Research: CERN\n",
    "- World Health Organization: FT\n",
    "- Union International pour la Conservation de la Nature et de ses Ressources: IUCN\n",
    "- International Centre for Trade and Sustainable Development: ICTSD\n",
    "- European Society of Intensive Care Medecine: ESICM\n",
    "- United Nations Institute for Training and Research: UNITAR\n",
    "- Worl Heart Federation: WHF\n",
    "- Quaker United Nations Office, Geneva: \n",
    "- Council on Health Research for Development Association: COHRED\n",
    "- Union Européenne de Radio Télévision: EBU\n",
    "- European Molecular Biology Organization: EMBO, which is sometimes located by the European Commission in Switzerland (Geneva)\n",
    "- European Society for Medical Oncology: ESMO\n",
    "- International Telecommunication Union: ITU\n"
   ]
  },
  {
   "cell_type": "code",
   "execution_count": 23,
   "metadata": {},
   "outputs": [
    {
     "name": "stdout",
     "output_type": "stream",
     "text": [
      "Participations of international organisations in Switzerland:\n",
      "\n",
      "        Part in FP7  FP7 Funding M€  Part in H2020  H2020 Funding M€\n",
      "CERN          115.0      126.864954           52.0         37.340125\n",
      "COHRED          4.0        1.170203            1.0          0.000000\n",
      "EBU            10.0        2.552620            2.0          0.414555\n",
      "EMBO            4.0       24.473964            0.0          0.000000\n",
      "ESICM           1.0        0.232286            0.0          0.000000\n",
      "ESMO            1.0        0.057780            0.0          0.000000\n",
      "FT             44.0       11.902131           10.0          4.733969\n",
      "ICTSD           1.0        0.141800            0.0          0.000000\n",
      "IOM            60.0       15.432281            5.0          1.711823\n",
      "ITU            59.0       12.472875           21.0          8.208944\n",
      "IUCN            9.0        1.760355            4.0          1.000287\n",
      "QUNO            1.0        0.314835            0.0          0.000000\n",
      "UNISDR          1.0        0.291822            0.0          0.000000\n",
      "UNITAR          3.0        1.137856            1.0          0.080250\n",
      "WHF             1.0        0.029555            0.0          0.000000\n",
      "WMO             8.0        1.232381            3.0          1.001250\n"
     ]
    }
   ],
   "source": [
    "# List of international organisations located in Switzerland (short names)\n",
    "international_orgs_in_CH = [\n",
    "    \"WMO\",\"UNISDR\",\"IOM\", \"ITU\", # in 'PUB'\n",
    "    \"CERN\", \"FT\", \"IUCN\", \"ICTSD\", \"ESICM\", \"UNITAR\", # in 'REC'\n",
    "    \"WHF\", \"QUNO\", \"COHRED\", \"EBU\", \"EMBO\", \"ESMO\", # in 'OTH'\n",
    "]\n",
    "international_orgs_in_CH.sort()\n",
    "\n",
    "print (\"Participations of international organisations in Switzerland:\\n\")\n",
    "\n",
    "orgs_ch = pd.DataFrame (index = international_orgs_in_CH)\n",
    "\n",
    "for org in orgs_ch.index:\n",
    "    orgs_ch.loc[org,\"Part in FP7\"] = fp7.loc[fp7['shortName'] == org].shape[0]\n",
    "    orgs_ch.loc[org,\"FP7 Funding M€\"] = fp7.loc[\n",
    "        fp7['shortName'] == org,\n",
    "        \"ecContribution\"\n",
    "    ].sum()/1000000\n",
    "    orgs_ch.loc[org,\"Part in H2020\"] = h2020.loc[\n",
    "        h2020['shortName'] == org\n",
    "    ].shape[0]\n",
    "    orgs_ch.loc[org,\"H2020 Funding M€\"] = h2020.loc[\n",
    "        h2020['shortName'] == org,\n",
    "        \"ecContribution\"\n",
    "    ].sum()/1000000\n",
    "print(orgs_ch)"
   ]
  },
  {
   "cell_type": "markdown",
   "metadata": {},
   "source": [
    "#### Swiss participations in FP7\n",
    "\n",
    "We select all participations where the country of the organisation's address is set to Switzerland, but where the organisation in not in the list of the international organisations listed above."
   ]
  },
  {
   "cell_type": "code",
   "execution_count": 24,
   "metadata": {},
   "outputs": [],
   "source": [
    "ch_all = fp7.loc[(fp7['country'] == 'CH')]"
   ]
  },
  {
   "cell_type": "markdown",
   "metadata": {},
   "source": [
    "**Comment on the code:**\n",
    "`~fp7['shortName'].isin(international_orgs_in_CH` identifies all rows in fp7 whose org_shortName is not in the list of international organisations in Switzerland."
   ]
  },
  {
   "cell_type": "code",
   "execution_count": 25,
   "metadata": {},
   "outputs": [],
   "source": [
    "# Correction by removing the international organisations in Switzerland\n",
    "ch = fp7.loc[\n",
    "    (fp7['country'] == 'CH') & (\n",
    "        # We exclude here all international organisations located in\n",
    "        # Switzerland, see list above.\n",
    "        # \"~\" with \".isin\" implements a de facto \"is not in\"\n",
    "        ~fp7['shortName'].isin(international_orgs_in_CH)\n",
    "    )\n",
    "]\n",
    "\n",
    "# Coordinations\n",
    "# org_role == \"hostInstitution\" is taken as coordinator for ERC\n",
    "# beneficiaries\n",
    "fp7_coord = (\n",
    "    (fp7['role'] == \"coordinator\") | (fp7['role'] == \"beneficiary\")\n",
    ").sum()\n",
    "ch_coord  = (\n",
    "    (ch['role'] == \"coordinator\") |\n",
    "    (ch['role'] == \"beneficiary\") |\n",
    "    (ch['role'] == \"hostInstitution\")\n",
    ").sum()"
   ]
  },
  {
   "cell_type": "code",
   "execution_count": 26,
   "metadata": {},
   "outputs": [
    {
     "name": "stdout",
     "output_type": "stream",
     "text": [
      "General statistics:\n",
      "Total participations in FP7:  146021\n",
      "Total coordinations in FP7:    22816\n",
      "Total financial contributions in FP7: M€ 52308.999\n",
      "\n",
      "Swiss participations in FP7:\n",
      "Number of Swiss participations:  4726\n",
      "Proportion of Swiss participations: 3.24%\n",
      "\n",
      "Swiss coordinations:\n",
      "Number of Swiss coordinations:  1378\n",
      "Proportion of Swiss coordinations: 6.04%\n",
      "\n",
      "Financial contributions to Switzerland:\n",
      "Amount received: M€  2436.137\n",
      "Proportion of funding to Switzerland: 4.66%\n"
     ]
    }
   ],
   "source": [
    "# General participation\n",
    "print (\"General statistics:\")\n",
    "print (\"Total participations in FP7: {:7d}\".format(fp7.shape[0]))\n",
    "print (\"Total coordinations in FP7:  {:7d}\".format(fp7_coord))\n",
    "print (\n",
    "    \"Total financial contributions in FP7: M€{:10.3f}\".format(\n",
    "        fp7[\"ecContribution\"].sum()/1000000\n",
    "    )\n",
    ")\n",
    "\n",
    "# Participations\n",
    "print (\"\\nSwiss participations in FP7:\")\n",
    "print (\"Number of Swiss participations: {:5d}\".format(ch.shape[0]))\n",
    "print (\"Proportion of Swiss participations: {:4.2f}%\".format(\n",
    "    ch.shape[0]/fp7.shape[0]*100)\n",
    ")\n",
    "\n",
    "# Coordinations\n",
    "print (\"\\nSwiss coordinations:\")\n",
    "print (\"Number of Swiss coordinations: {:5d}\".format(ch_coord))\n",
    "print (\"Proportion of Swiss coordinations: {:4.2f}%\".format(\n",
    "    ch_coord/fp7_coord*100)\n",
    ")\n",
    "\n",
    "# Financial contributions\n",
    "print (\"\\nFinancial contributions to Switzerland:\")\n",
    "print (\"Amount received: M€{a:10.3f}\".format(\n",
    "    a=ch[\"ecContribution\"].sum()/1000000)\n",
    ")\n",
    "print (\"Proportion of funding to Switzerland: {:4.2f}%\".format(\n",
    "    ch[\"ecContribution\"].sum()/fp7[\"ecContribution\"].sum()*100)\n",
    ")"
   ]
  }
 ],
 "metadata": {
  "kernelspec": {
   "display_name": "Python 3",
   "language": "python",
   "name": "python3"
  },
  "language_info": {
   "codemirror_mode": {
    "name": "ipython",
    "version": 3
   },
   "file_extension": ".py",
   "mimetype": "text/x-python",
   "name": "python",
   "nbconvert_exporter": "python",
   "pygments_lexer": "ipython3",
   "version": "3.6.4"
  }
 },
 "nbformat": 4,
 "nbformat_minor": 2
}
